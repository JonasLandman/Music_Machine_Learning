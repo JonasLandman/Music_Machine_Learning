{
 "cells": [
  {
   "cell_type": "markdown",
   "metadata": {},
   "source": [
    "WEKINATOR 2 SK-LEARN 2 ARDUINO"
   ]
  },
  {
   "cell_type": "code",
   "execution_count": 33,
   "metadata": {
    "collapsed": false
   },
   "outputs": [
    {
     "name": "stdout",
     "output_type": "stream",
     "text": [
      "607.68314288\n"
     ]
    }
   ],
   "source": [
    "from sklearn.neural_network import MLPRegressor\n",
    "X = [[0., 0.], [1., 1.], [50., 80.], [100., 200.], [300., 500.], [800., 1023.]]\n",
    "y = [[50., 50.], [60., 80.], [100., 120.], [230., 280.], [320., 400.], [800., 1023.]]\n",
    "#y = [[0., 0.], [1., 1.], [60., 55.], [150., 130.], [400., 370.], [900., 840.]]\n",
    "clf = MLPRegressor(solver='lbfgs', alpha=1e-5,\n",
    "                    hidden_layer_sizes=(5, 3), random_state=1, activation='identity')\n",
    "\n",
    "clf.fit(X, y)                         \n",
    "print(clf.loss_)\n",
    "\n"
   ]
  },
  {
   "cell_type": "code",
   "execution_count": 31,
   "metadata": {
    "collapsed": false
   },
   "outputs": [
    {
     "data": {
      "text/plain": [
       "array([[   64.42915001,    75.84575488],\n",
       "       [   66.1583957 ,    78.1111456 ],\n",
       "       [   98.68212428,   120.86089381],\n",
       "       [  233.71500585,   309.91656328],\n",
       "       [  332.72780102,   419.43820325],\n",
       "       [  865.1078566 ,  1118.08888975],\n",
       "       [  948.93832241,  1234.59310857]])"
      ]
     },
     "execution_count": 31,
     "metadata": {},
     "output_type": "execute_result"
    }
   ],
   "source": [
    "clf.predict([[0., 0.], [2., 2.], [40.,38.],[229.,56.], [289., 400.], [908., 1002.], [1023., 1023.]])"
   ]
  },
  {
   "cell_type": "code",
   "execution_count": 25,
   "metadata": {
    "collapsed": false
   },
   "outputs": [
    {
     "data": {
      "text/plain": [
       "[(2, 5), (5, 3), (3, 2)]"
      ]
     },
     "execution_count": 25,
     "metadata": {},
     "output_type": "execute_result"
    }
   ],
   "source": [
    "[coef.shape for coef in clf.coefs_]"
   ]
  },
  {
   "cell_type": "code",
   "execution_count": 26,
   "metadata": {
    "collapsed": false
   },
   "outputs": [
    {
     "name": "stdout",
     "output_type": "stream",
     "text": [
      "C[0]\n",
      "[[ 0.88934223  0.41521056  1.11369377  0.11599794 -0.55886764]\n",
      " [-2.02501785  0.04405254 -3.52180649 -0.65712574  0.84774683]]\n",
      "C[1]\n",
      "[[ 2.35199952 -1.39947877  1.01215464]\n",
      " [ 1.5716492  -1.09810635  0.41401113]\n",
      " [ 0.52843942 -0.92920834  1.05723995]\n",
      " [ 0.05157508  2.09270307 -2.52975937]\n",
      " [-1.43533716 -1.72739091  2.47718292]]\n",
      "C[2]\n",
      "[[ 1.14884872  1.24285042]\n",
      " [ 2.3818666   2.21076432]\n",
      " [-0.7363229  -1.37112853]]\n",
      "\n",
      "\n",
      "B[0]\n",
      "[-1.75530443 -2.35604453 -2.40015902  3.1477055  -3.28105536]\n",
      "B[1]\n",
      "[-1.36582696  1.85161513 -1.8918131 ]\n",
      "B[2]\n",
      "[ 2.79436251  3.62174779]\n"
     ]
    }
   ],
   "source": [
    "C = clf.coefs_\n",
    "for i in range(len(C)):\n",
    "    print(\"C[%i]\"%i)\n",
    "    print(C[i])\n",
    "\n",
    "print(\"\\n\")\n",
    "\n",
    "B = clf.intercepts_\n",
    "for i in range(len(B)):\n",
    "    print(\"B[%i]\"%i)\n",
    "    print(B[i])"
   ]
  },
  {
   "cell_type": "code",
   "execution_count": 27,
   "metadata": {
    "collapsed": false
   },
   "outputs": [
    {
     "name": "stdout",
     "output_type": "stream",
     "text": [
      "W[0]\n",
      "{{0.889342232486, -2.02501785293, -1.7553044319}, \n",
      "{0.415210555563, 0.0440525416446, -2.35604452887}, \n",
      "{1.11369377015, -3.52180648623, -2.40015902002}, \n",
      "{0.115997940612, -0.657125744289, 3.14770549941}, \n",
      "{-0.558867640679, 0.847746828527, -3.2810553599}};\n",
      "\n",
      "W[1]\n",
      "{{2.35199951658, 1.57164920226, 0.528439423835, 0.0515750809269, -1.43533715784, -1.36582695526}, \n",
      "{-1.3994787673, -1.09810634784, -0.929208336666, 2.09270307458, -1.72739091252, 1.85161512769}, \n",
      "{1.01215464252, 0.414011132713, 1.05723995165, -2.52975936923, 2.47718291903, -1.89181310214}};\n",
      "\n",
      "W[2]\n",
      "{{1.14884871817, 2.38186659723, -0.736322896248, 2.79436251316}, \n",
      "{1.24285042499, 2.2107643201, -1.37112853368, 3.62174778884}};\n",
      "\n",
      "[(3, 5), (6, 3), (4, 2)]\n"
     ]
    }
   ],
   "source": [
    "import numpy as np\n",
    "def weight_matrix(clf):\n",
    "    C = clf.coefs_\n",
    "    B = clf.intercepts_\n",
    "    W = []\n",
    "    for i in range(len(C)):\n",
    "        W.append(np.vstack([C[i], B[i]]))\n",
    "    return W\n",
    "\n",
    "def print_4_arduino(W):\n",
    "    for i in range(len(W)):\n",
    "        print(\"W[%i]\"%i)\n",
    "        print(\"{\", end='')\n",
    "        W_ = np.transpose(W[i])\n",
    "        for j in range(len(W_)):\n",
    "            print(\"{\", end='')\n",
    "            for k in range(len(W_[j])):\n",
    "                print(str(W_[j][k]), end='')\n",
    "                if (k!=len(W_[j])-1):\n",
    "                    print(\", \", end='')\n",
    "            print(\"}\", end='')\n",
    "            if (j!=len(W_)-1):\n",
    "                print(\", \")\n",
    "        print(\"};\")\n",
    "        print()\n",
    "\n",
    "W = weight_matrix(clf)\n",
    "print_4_arduino(W)\n",
    "print([coef.shape for coef in W])"
   ]
  },
  {
   "cell_type": "code",
   "execution_count": 28,
   "metadata": {
    "collapsed": false
   },
   "outputs": [
    {
     "data": {
      "text/plain": [
       "array([[ 234.21625958,  225.54926357]])"
      ]
     },
     "execution_count": 28,
     "metadata": {},
     "output_type": "execute_result"
    }
   ],
   "source": [
    "clf.predict([[0.,1023.]])"
   ]
  },
  {
   "cell_type": "code",
   "execution_count": 29,
   "metadata": {
    "collapsed": false
   },
   "outputs": [
    {
     "name": "stdout",
     "output_type": "stream",
     "text": [
      "[ -41.19975002   33.60158047 -169.27231813  -23.18036587 -101.37950037]\n",
      "[ -41.52   33.55 -169.35  -23.54 -101.61]\n"
     ]
    },
    {
     "data": {
      "text/plain": [
       "[[0.04, -0.55, -0.06],\n",
       " [0.76, -0.44, 0.47],\n",
       " [-1.19, -0.74, -0.38],\n",
       " [-0.4, 0.15, 0.56],\n",
       " [-0.73, -0.42, -0.74]]"
      ]
     },
     "execution_count": 29,
     "metadata": {},
     "output_type": "execute_result"
    }
   ],
   "source": [
    "X = np.array([91,82,1])\n",
    "W_1 = [[0.0439705348107, -0.550473547515, -0.0622377884909 ], \n",
    "[0.764552457062, -0.44443668827, 0.471115318049 ], \n",
    "[-1.19337941334, -0.735254200088, -0.383947108724 ], \n",
    "[-0.400170870905, 0.154518984432, 0.564626658027 ], \n",
    "[-0.727440202957, -0.419977952043, -0.744249834135 ]];\n",
    "print(np.matmul(W_1,X))\n",
    "\n",
    "W_1_ = [[round(elm,2)for elm in W_1[idx]]for idx in range(len(W_1))]\n",
    "print(np.matmul(W_1_,X))\n",
    "W_1_\n",
    "\n"
   ]
  },
  {
   "cell_type": "code",
   "execution_count": 30,
   "metadata": {
    "collapsed": false
   },
   "outputs": [
    {
     "ename": "ImportError",
     "evalue": "No module named 'arff'",
     "output_type": "error",
     "traceback": [
      "\u001b[0;31m---------------------------------------------------------------------------\u001b[0m",
      "\u001b[0;31mImportError\u001b[0m                               Traceback (most recent call last)",
      "\u001b[0;32m<ipython-input-30-76744cf67103>\u001b[0m in \u001b[0;36m<module>\u001b[0;34m()\u001b[0m\n\u001b[0;32m----> 1\u001b[0;31m \u001b[0;32mimport\u001b[0m \u001b[0marff\u001b[0m\u001b[0;34m\u001b[0m\u001b[0m\n\u001b[0m",
      "\u001b[0;31mImportError\u001b[0m: No module named 'arff'"
     ]
    }
   ],
   "source": [
    "import arff"
   ]
  },
  {
   "cell_type": "code",
   "execution_count": null,
   "metadata": {
    "collapsed": true
   },
   "outputs": [],
   "source": []
  },
  {
   "cell_type": "code",
   "execution_count": null,
   "metadata": {
    "collapsed": true
   },
   "outputs": [],
   "source": []
  },
  {
   "cell_type": "code",
   "execution_count": null,
   "metadata": {
    "collapsed": true
   },
   "outputs": [],
   "source": []
  }
 ],
 "metadata": {
  "kernelspec": {
   "display_name": "Python 3",
   "language": "python",
   "name": "python3"
  },
  "language_info": {
   "codemirror_mode": {
    "name": "ipython",
    "version": 3
   },
   "file_extension": ".py",
   "mimetype": "text/x-python",
   "name": "python",
   "nbconvert_exporter": "python",
   "pygments_lexer": "ipython3",
   "version": "3.4.3"
  }
 },
 "nbformat": 4,
 "nbformat_minor": 0
}
